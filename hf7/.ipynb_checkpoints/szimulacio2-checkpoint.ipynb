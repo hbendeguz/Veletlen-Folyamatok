{
 "cells": [
  {
   "cell_type": "code",
   "execution_count": 4,
   "metadata": {},
   "outputs": [
    {
     "name": "stdout",
     "output_type": "stream",
     "text": [
      "Populating the interactive namespace from numpy and matplotlib\n"
     ]
    }
   ],
   "source": [
    "%pylab inline"
   ]
  },
  {
   "cell_type": "code",
   "execution_count": 113,
   "metadata": {
    "collapsed": true
   },
   "outputs": [],
   "source": [
    "q = 3\n",
    "betaJ = [0.14, 0.28, 0.56, 1.15]"
   ]
  },
  {
   "cell_type": "code",
   "execution_count": 114,
   "metadata": {
    "collapsed": true
   },
   "outputs": [],
   "source": [
    "def E(spins):\n",
    "    s = 0\n",
    "\n",
    "    for i in range(1, len(spins)):\n",
    "        s = s+ spins[i-1]*spins[i]\n",
    "    E = -s\n",
    "    return E"
   ]
  },
  {
   "cell_type": "code",
   "execution_count": 115,
   "metadata": {
    "collapsed": true
   },
   "outputs": [],
   "source": [
    "def dE(s0,s1, s2):\n",
    "    return 2*s1*(s0+s2)"
   ]
  },
  {
   "cell_type": "code",
   "execution_count": 116,
   "metadata": {
    "collapsed": true
   },
   "outputs": [],
   "source": [
    "def simulationStep(s, N, betaJ):\n",
    "    rand = random.randint(0, N)#creates a random nuber with unifrom distribution\n",
    "    if rand ==0:\n",
    "        s1 = s[rand]\n",
    "        s0 = s[N-1]\n",
    "        s2 = s[rand+1]\n",
    "    if rand == N-1:\n",
    "        s1 = s[rand]\n",
    "        s0 = s[rand-1]\n",
    "        s2 = s[0]\n",
    "    else:\n",
    "        s0 = s[rand-1]\n",
    "        s1 = s[rand]\n",
    "        s2 = s[rand+1]\n",
    "    if dE(s0, s1, s2) <0:\n",
    "        s[rand]= -s[rand]\n",
    "        return s\n",
    "    elif dE(s0, s1, s2) == 0:\n",
    "        P = random.random()\n",
    "        if P< 0.5:\n",
    "            s[rand]= -s[rand]\n",
    "            return s\n",
    "        else:\n",
    "            return s\n",
    "    else: \n",
    "        P = random.random()\n",
    "        if P < exp(-betaJ*dE(s0, s1, s2)):\n",
    "            s[rand] = -s[rand]\n",
    "            return s\n",
    "        else:\n",
    "            return s\n",
    "        "
   ]
  },
  {
   "cell_type": "code",
   "execution_count": 117,
   "metadata": {
    "collapsed": true
   },
   "outputs": [],
   "source": [
    "\n",
    "N = 100\n",
    "\n",
    "s = (random.randint(0, 2, (N,))-1/2)*2"
   ]
  },
  {
   "cell_type": "code",
   "execution_count": 118,
   "metadata": {
    "collapsed": true
   },
   "outputs": [],
   "source": [
    "t = 1000\n",
    "a = []\n",
    "snew = s\n",
    "for i in range(N*t):\n",
    "    s = snew\n",
    "    a.append(sum(s)/N)\n",
    "    snew = simulationStep(s, N , betaJ[q])\n",
    "    "
   ]
  },
  {
   "cell_type": "code",
   "execution_count": 119,
   "metadata": {},
   "outputs": [
    {
     "data": {
      "text/plain": [
       "-75.0"
      ]
     },
     "execution_count": 119,
     "metadata": {},
     "output_type": "execute_result"
    }
   ],
   "source": [
    "E(snew)"
   ]
  },
  {
   "cell_type": "code",
   "execution_count": 120,
   "metadata": {},
   "outputs": [
    {
     "data": {
      "text/plain": [
       "[<matplotlib.lines.Line2D at 0x114c78668>]"
      ]
     },
     "execution_count": 120,
     "metadata": {},
     "output_type": "execute_result"
    },
    {
     "data": {
      "image/png": "[encoded data removed]",
      "text/plain": [
       "<matplotlib.figure.Figure at 0x114ad30f0>"
      ]
     },
     "metadata": {},
     "output_type": "display_data"
    }
   ],
   "source": [
    "plot(a)"
   ]
  },
  {
   "cell_type": "code",
   "execution_count": 121,
   "metadata": {},
   "outputs": [
    {
     "data": {
      "text/plain": [
       "0.29248952801767114"
      ]
     },
     "execution_count": 121,
     "metadata": {},
     "output_type": "execute_result"
    }
   ],
   "source": [
    "sqrt(average(multiply(a,a)))"
   ]
  },
  {
   "cell_type": "code",
   "execution_count": 122,
   "metadata": {},
   "outputs": [
    {
     "data": {
      "text/plain": [
       "0.08553916657596002"
      ]
     },
     "execution_count": 122,
     "metadata": {},
     "output_type": "execute_result"
    }
   ],
   "source": [
    "average(multiply(a,a))-average(a)**2"
   ]
  },
  {
   "cell_type": "code",
   "execution_count": 123,
   "metadata": {},
   "outputs": [
    {
     "name": "stdout",
     "output_type": "stream",
     "text": [
      "-0.08\n"
     ]
    }
   ],
   "source": [
    "print(a[-1])"
   ]
  },
  {
   "cell_type": "code",
   "execution_count": 124,
   "metadata": {
    "scrolled": true
   },
   "outputs": [
    {
     "name": "stdout",
     "output_type": "stream",
     "text": [
      "[0.16507574 0.17149344 0.17930421 0.16946976 0.17514851]\n"
     ]
    }
   ],
   "source": [
    "f = sqrt(c)\n",
    "print(f)"
   ]
  },
  {
   "cell_type": "code",
   "execution_count": 125,
   "metadata": {
    "collapsed": true
   },
   "outputs": [],
   "source": [
    "b = [0.1650, 0.17157, 0.1802, 0.17175, 0.176661]\n",
    "c = [0.02725, 0.02941, 0.03215, 0.02872, 0.030677 ]\n",
    "d = [0.26, 0.016, 0.06, -0.02]"
   ]
  },
  {
   "cell_type": "code",
   "execution_count": 126,
   "metadata": {},
   "outputs": [
    {
     "data": {
      "text/plain": [
       "0.079"
      ]
     },
     "execution_count": 126,
     "metadata": {},
     "output_type": "execute_result"
    }
   ],
   "source": [
    "average(d)"
   ]
  },
  {
   "cell_type": "code",
   "execution_count": 127,
   "metadata": {},
   "outputs": [
    {
     "data": {
      "text/plain": [
       "0.011723"
      ]
     },
     "execution_count": 127,
     "metadata": {},
     "output_type": "execute_result"
    }
   ],
   "source": [
    "var(d)"
   ]
  },
  {
   "cell_type": "code",
   "execution_count": null,
   "metadata": {
    "collapsed": true
   },
   "outputs": [],
   "source": []
  }
 ],
 "metadata": {
  "kernelspec": {
   "display_name": "Python 3",
   "language": "python",
   "name": "python3"
  },
  "language_info": {
   "codemirror_mode": {
    "name": "ipython",
    "version": 3
   },
   "file_extension": ".py",
   "mimetype": "text/x-python",
   "name": "python",
   "nbconvert_exporter": "python",
   "pygments_lexer": "ipython3",
   "version": "3.6.3"
  }
 },
 "nbformat": 4,
 "nbformat_minor": 2
}
